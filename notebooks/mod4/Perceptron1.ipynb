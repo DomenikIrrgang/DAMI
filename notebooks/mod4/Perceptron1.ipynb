{
 "cells": [
  {
   "cell_type": "markdown",
   "metadata": {},
   "source": [
    "# Perceptron1"
   ]
  },
  {
   "cell_type": "markdown",
   "metadata": {},
   "source": [
    "Now we want to mimic an AND logical function by a perceptron? The AND has 2 inputs that can either take the values 0 \n",
    "or 1; so its function can be expressed by a truth table containg 2^2 == 4 entries. \n",
    "An AND only takes 1 (TRUE) as output if both inputs are 1 (TRUE).\n",
    "\n",
    "Question now is how to model the AND function with a perceptron. Obviously we have to train the perceptron with all \n",
    "4 train samples with enough iterations (epochs).\n",
    "\n",
    "At the end 2 exercises are included."
   ]
  },
  {
   "cell_type": "code",
   "execution_count": 1,
   "metadata": {},
   "outputs": [],
   "source": [
    "import numpy as np\n",
    "import matplotlib.pyplot as plt\n",
    "#import sklearn.linear_model.perceptron as p\n",
    "from sklearn.linear_model import perceptron\n",
    " \n",
    "# Needed to show the plots inline\n",
    "%matplotlib inline"
   ]
  },
  {
   "cell_type": "markdown",
   "metadata": {},
   "source": [
    "Get the data"
   ]
  },
  {
   "cell_type": "code",
   "execution_count": 2,
   "metadata": {
    "collapsed": true
   },
   "outputs": [],
   "source": [
    "# Data\n",
    "d = np.array([\n",
    "[0, 0, 1, 1],\n",
    "[0, 1, 0, 1]\n",
    "])\n",
    " \n",
    "# Labels\n",
    "t = np.array([0, 0, 0, 1])"
   ]
  },
  {
   "cell_type": "markdown",
   "metadata": {},
   "source": [
    "Plot points"
   ]
  },
  {
   "cell_type": "code",
   "execution_count": 3,
   "metadata": {},
   "outputs": [
    {
     "data": {
      "text/plain": [
       "<matplotlib.collections.PathCollection at 0x111fa4630>"
      ]
     },
     "execution_count": 3,
     "metadata": {},
     "output_type": "execute_result"
    },
    {
     "data": {
      "image/png": "[encoded data removed]",
      "text/plain": [
       "<matplotlib.figure.Figure at 0x10ec3b160>"
      ]
     },
     "metadata": {},
     "output_type": "display_data"
    }
   ],
   "source": [
    "colormap = np.array(['r', 'b'])\n",
    "plt.scatter(d[0], d[1], c=colormap[t], s=40)"
   ]
  },
  {
   "cell_type": "code",
   "execution_count": null,
   "metadata": {
    "collapsed": true
   },
   "outputs": [],
   "source": []
  },
  {
   "cell_type": "code",
   "execution_count": 7,
   "metadata": {},
   "outputs": [
    {
     "name": "stdout",
     "output_type": "stream",
     "text": [
      "Prediction[0 0 0 1]\n",
      "Actual     [0 0 0 1]\n",
      "Accuracy   100.0%\n"
     ]
    },
    {
     "name": "stderr",
     "output_type": "stream",
     "text": [
      "/usr/local/miniconda3/lib/python3.6/site-packages/sklearn/linear_model/stochastic_gradient.py:73: DeprecationWarning: n_iter parameter is deprecated in 0.19 and will be removed in 0.21. Use max_iter and tol instead.\n",
      "  DeprecationWarning)\n"
     ]
    },
    {
     "data": {
      "text/plain": [
       "array([[0, 0],\n",
       "       [1, 0],\n",
       "       [0, 1],\n",
       "       [1, 1]])"
      ]
     },
     "execution_count": 7,
     "metadata": {},
     "output_type": "execute_result"
    }
   ],
   "source": [
    "# rotate the data 270 degrees\n",
    "d90 = np.rot90(d)\n",
    "d180 = np.rot90(d90)\n",
    "d270 = np.rot90(d180)\n",
    " \n",
    "# Create the model: train with d270!\n",
    "net = perceptron.Perceptron(n_iter=20, verbose=0, random_state=None, fit_intercept=True, eta0=0.002)\n",
    "net.fit(d270,t)\n",
    " \n",
    "# Print the results\n",
    "print(\"Prediction\" + str(net.predict(d270)))       # Use the model: infer with d270\n",
    "print(\"Actual     \" + str(t))\n",
    "print(\"Accuracy   \" + str(net.score(d270, t)*100) + \"%\")\n",
    "d270"
   ]
  },
  {
   "cell_type": "code",
   "execution_count": 8,
   "metadata": {},
   "outputs": [
    {
     "name": "stdout",
     "output_type": "stream",
     "text": [
      "Coefficient 0 0.004\n",
      "Coefficient 1 0.006\n",
      "Bias [-0.008]\n"
     ]
    },
    {
     "data": {
      "text/plain": [
       "[<matplotlib.lines.Line2D at 0x112155588>]"
      ]
     },
     "execution_count": 8,
     "metadata": {},
     "output_type": "execute_result"
    },
    {
     "data": {
      "image/png": "[encoded data removed]",
      "text/plain": [
       "<matplotlib.figure.Figure at 0x10ec5b9e8>"
      ]
     },
     "metadata": {},
     "output_type": "display_data"
    }
   ],
   "source": [
    "# Plot the original data\n",
    "plt.scatter(d[0], d[1], c=colormap[t], s=40)\n",
    " \n",
    "# Output the values\n",
    "print(\"Coefficient 0 \" + str(net.coef_[0,0]))\n",
    "print(\"Coefficient 1 \" + str(net.coef_[0,1]))\n",
    "print(\"Bias \" + str(net.intercept_))\n",
    " \n",
    "# Calc the hyperplane (decision boundary)\n",
    "ymin, ymax = plt.ylim()\n",
    "w = net.coef_[0]\n",
    "a = -w[0] / w[1]\n",
    "xx = np.linspace(ymin, ymax)\n",
    "yy = a * xx - (net.intercept_[0]) / w[1]\n",
    " \n",
    "# Plot the line\n",
    "plt.plot(yy,xx, 'k-')"
   ]
  },
  {
   "cell_type": "markdown",
   "metadata": {},
   "source": [
    "As can be seen the perceptron has successfully separated for the AND function the 3 False and the 1 True truth table entries."
   ]
  },
  {
   "cell_type": "markdown",
   "metadata": {
    "collapsed": true
   },
   "source": [
    "# Exercises\n",
    "1. Question: if we reduce the number of iterations what would you think would happen with 'accuracy' and the separation line?\n",
    "    At what threshold would a decreasing number of iterations fail the correct inference?\n",
    "2. Do the same for the OR function. The OR function only has a 0 (FALSE) output if both the inputs are 0 (FALSE). \n",
    "See https://en.wikipedia.org/wiki/Boolean_algebra\n",
    "3. Do the same for the XOR function."
   ]
  }
 ],
 "metadata": {
  "kernelspec": {
   "display_name": "Python 3",
   "language": "python",
   "name": "python3"
  },
  "language_info": {
   "codemirror_mode": {
    "name": "ipython",
    "version": 3
   },
   "file_extension": ".py",
   "mimetype": "text/x-python",
   "name": "python",
   "nbconvert_exporter": "python",
   "pygments_lexer": "ipython3",
   "version": "3.6.3"
  }
 },
 "nbformat": 4,
 "nbformat_minor": 2
}
